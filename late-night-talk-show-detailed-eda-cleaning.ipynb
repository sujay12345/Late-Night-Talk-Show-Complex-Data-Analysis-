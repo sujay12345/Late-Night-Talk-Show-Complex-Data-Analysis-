{
 "cells": [
  {
   "cell_type": "markdown",
   "execution_count": null,
   "metadata": {},
   "source": [
    "# Complete Analysis Of The Late Night Talk Show By Conan"
   ]
  },
  {
   "cell_type": "markdown",
   "execution_count": null,
   "metadata": {},
   "source": [
    "**Worked Really hard for this,Considering I am a Beginner,Would Really Make Me Happy If You Upvote It,If You Like It**\n",
    "\n",
    "\n",
    "\n",
    "Thanking the Dataset Creator for this dataset"
   ]
  },
  {
   "cell_type": "markdown",
   "execution_count": null,
   "metadata": {},
   "source": [
    "**Late Night Talk Shows are a staple of American television culture and with the shows establishing a digital presence in the form of YouTube channels, this culture has become more global. Some of the channels here have more than 20 Million subscribers which shows the amount of influence they hold in this platform.**\n",
    "\n"
   ]
  },
  {
   "cell_type": "markdown",
   "execution_count": null,
   "metadata": {},
   "source": [
    "Importing necessary libraries."
   ]
  },
  {
   "cell_type": "markdown",
   "execution_count": null,
   "metadata": {},
   "source": [
    "![](http://www.google.com/urlsa=i&url=https%3A%2F%2Fen.wikipedia.org%2Fwiki%2FLatenight_talk_show&psig=AOvVaw1qrXPGiJ_AlgVXLsw_lqBP&ust=1594227281121000&source=images&cd=vfe&ved=0CAIQjRxqFwoTCPiakPbNu-oCFQAAAAAdAAAAABAE)"
   ]
  },
  {
   "cell_type": "code",
   "execution_count": 1,
   "metadata": {
    "_cell_guid": "b1076dfc-b9ad-4769-8c92-a6c4dae69d19",
    "_uuid": "8f2839f25d086af736a60e9eeb907d3b93b6e0e5"
   },
   "outputs": [],
   "source": [
    "import numpy as np\n",
    "import pandas as pd\n",
    "import matplotlib.pyplot as plt\n",
    "import seaborn as sns"
   ]
  },
  {
   "cell_type": "markdown",
   "execution_count": null,
   "metadata": {},
   "source": [
    "# Conan's Hosting : Analysis"
   ]
  },
  {
   "cell_type": "markdown",
   "execution_count": null,
   "metadata": {},
   "source": [
    "Reading the file"
   ]
  },
  {
   "cell_type": "code",
   "execution_count": 2,
   "metadata": {
    "_cell_guid": "79c7e3d0-c299-4dcb-8224-4455121ee9b0",
    "_uuid": "d629ff2d2480ee46fbb7e2d37f6b5fab8052498a"
   },
   "outputs": [
    {
     "data": {
      "text/html": [
       "<div>\n",
       "<style scoped>\n",
       "    .dataframe tbody tr th:only-of-type {\n",
       "        vertical-align: middle;\n",
       "    }\n",
       "\n",
       "    .dataframe tbody tr th {\n",
       "        vertical-align: top;\n",
       "    }\n",
       "\n",
       "    .dataframe thead th {\n",
       "        text-align: right;\n",
       "    }\n",
       "</style>\n",
       "<table border=\"1\" class=\"dataframe\">\n",
       "  <thead>\n",
       "    <tr style=\"text-align: right;\">\n",
       "      <th></th>\n",
       "      <th>publishedAtSQL</th>\n",
       "      <th>videoTitle</th>\n",
       "      <th>videoDescription</th>\n",
       "      <th>videoCategoryId</th>\n",
       "      <th>videoCategoryLabel</th>\n",
       "      <th>durationSec</th>\n",
       "      <th>definition</th>\n",
       "      <th>caption</th>\n",
       "      <th>licensedContent</th>\n",
       "      <th>viewCount</th>\n",
       "      <th>likeCount</th>\n",
       "      <th>dislikeCount</th>\n",
       "      <th>commentCount</th>\n",
       "    </tr>\n",
       "  </thead>\n",
       "  <tbody>\n",
       "    <tr>\n",
       "      <th>0</th>\n",
       "      <td>12-06-2020 12:00</td>\n",
       "      <td>Deon Cole On White Protester Signs That Missed...</td>\n",
       "      <td>Deon Cole shares some white protester signs th...</td>\n",
       "      <td>23</td>\n",
       "      <td>Comedy</td>\n",
       "      <td>124</td>\n",
       "      <td>hd</td>\n",
       "      <td>False</td>\n",
       "      <td>1.0</td>\n",
       "      <td>98817.0</td>\n",
       "      <td>3161.0</td>\n",
       "      <td>186.0</td>\n",
       "      <td>368.0</td>\n",
       "    </tr>\n",
       "    <tr>\n",
       "      <th>1</th>\n",
       "      <td>11-06-2020 23:34</td>\n",
       "      <td>Nicole Byer On Finding Humor In Pain - CONAN o...</td>\n",
       "      <td>Nicole Byer on racial inequality in healthcare...</td>\n",
       "      <td>23</td>\n",
       "      <td>Comedy</td>\n",
       "      <td>1200</td>\n",
       "      <td>hd</td>\n",
       "      <td>True</td>\n",
       "      <td>1.0</td>\n",
       "      <td>48337.0</td>\n",
       "      <td>1884.0</td>\n",
       "      <td>115.0</td>\n",
       "      <td>318.0</td>\n",
       "    </tr>\n",
       "    <tr>\n",
       "      <th>2</th>\n",
       "      <td>11-06-2020 23:32</td>\n",
       "      <td>Sona Crashes Conan's Interview With Nicole Bye...</td>\n",
       "      <td>Sona is a huge fan of Nicole Byer, “Nailed It!...</td>\n",
       "      <td>23</td>\n",
       "      <td>Comedy</td>\n",
       "      <td>52</td>\n",
       "      <td>hd</td>\n",
       "      <td>True</td>\n",
       "      <td>1.0</td>\n",
       "      <td>57277.0</td>\n",
       "      <td>1992.0</td>\n",
       "      <td>47.0</td>\n",
       "      <td>147.0</td>\n",
       "    </tr>\n",
       "    <tr>\n",
       "      <th>3</th>\n",
       "      <td>11-06-2020 00:00</td>\n",
       "      <td>Senator Cory Booker On This Crossroads In Amer...</td>\n",
       "      <td>Senator Cory Booker discusses the killing of G...</td>\n",
       "      <td>23</td>\n",
       "      <td>Comedy</td>\n",
       "      <td>1917</td>\n",
       "      <td>hd</td>\n",
       "      <td>False</td>\n",
       "      <td>1.0</td>\n",
       "      <td>26466.0</td>\n",
       "      <td>796.0</td>\n",
       "      <td>338.0</td>\n",
       "      <td>399.0</td>\n",
       "    </tr>\n",
       "    <tr>\n",
       "      <th>4</th>\n",
       "      <td>10-06-2020 21:03</td>\n",
       "      <td>Senator Cory Booker Wants This To Be A Moral M...</td>\n",
       "      <td>Senator Cory Booker discusses President Trump’...</td>\n",
       "      <td>23</td>\n",
       "      <td>Comedy</td>\n",
       "      <td>447</td>\n",
       "      <td>hd</td>\n",
       "      <td>True</td>\n",
       "      <td>1.0</td>\n",
       "      <td>19033.0</td>\n",
       "      <td>491.0</td>\n",
       "      <td>336.0</td>\n",
       "      <td>264.0</td>\n",
       "    </tr>\n",
       "  </tbody>\n",
       "</table>\n",
       "</div>"
      ],
      "text/plain": [
       "     publishedAtSQL                                         videoTitle  \\\n",
       "0  12-06-2020 12:00  Deon Cole On White Protester Signs That Missed...   \n",
       "1  11-06-2020 23:34  Nicole Byer On Finding Humor In Pain - CONAN o...   \n",
       "2  11-06-2020 23:32  Sona Crashes Conan's Interview With Nicole Bye...   \n",
       "3  11-06-2020 00:00  Senator Cory Booker On This Crossroads In Amer...   \n",
       "4  10-06-2020 21:03  Senator Cory Booker Wants This To Be A Moral M...   \n",
       "\n",
       "                                    videoDescription videoCategoryId  \\\n",
       "0  Deon Cole shares some white protester signs th...              23   \n",
       "1  Nicole Byer on racial inequality in healthcare...              23   \n",
       "2  Sona is a huge fan of Nicole Byer, “Nailed It!...              23   \n",
       "3  Senator Cory Booker discusses the killing of G...              23   \n",
       "4  Senator Cory Booker discusses President Trump’...              23   \n",
       "\n",
       "  videoCategoryLabel durationSec definition caption  licensedContent  \\\n",
       "0             Comedy         124         hd   False              1.0   \n",
       "1             Comedy        1200         hd    True              1.0   \n",
       "2             Comedy          52         hd    True              1.0   \n",
       "3             Comedy        1917         hd   False              1.0   \n",
       "4             Comedy         447         hd    True              1.0   \n",
       "\n",
       "   viewCount  likeCount  dislikeCount  commentCount  \n",
       "0    98817.0     3161.0         186.0         368.0  \n",
       "1    48337.0     1884.0         115.0         318.0  \n",
       "2    57277.0     1992.0          47.0         147.0  \n",
       "3    26466.0      796.0         338.0         399.0  \n",
       "4    19033.0      491.0         336.0         264.0  "
      ]
     },
     "execution_count": 2,
     "metadata": {},
     "output_type": "execute_result"
    }
   ],
   "source": [
    "conan = pd.read_csv(\"../input/late-night-talk-show-youtube-dataset/Conan.csv\")\n",
    " #printing the first five rows \n",
    "conan.head()"
   ]
  },
  {
   "cell_type": "markdown",
   "execution_count": null,
   "metadata": {},
   "source": [
    "# Data Preprocessing & Cleaning"
   ]
  },
  {
   "cell_type": "markdown",
   "execution_count": null,
   "metadata": {},
   "source": [
    "First lets drop unwanted rows to reduce ambiguity"
   ]
  },
  {
   "cell_type": "code",
   "execution_count": 3,
   "metadata": {},
   "outputs": [
    {
     "data": {
      "text/html": [
       "<div>\n",
       "<style scoped>\n",
       "    .dataframe tbody tr th:only-of-type {\n",
       "        vertical-align: middle;\n",
       "    }\n",
       "\n",
       "    .dataframe tbody tr th {\n",
       "        vertical-align: top;\n",
       "    }\n",
       "\n",
       "    .dataframe thead th {\n",
       "        text-align: right;\n",
       "    }\n",
       "</style>\n",
       "<table border=\"1\" class=\"dataframe\">\n",
       "  <thead>\n",
       "    <tr style=\"text-align: right;\">\n",
       "      <th></th>\n",
       "      <th>videoTitle</th>\n",
       "      <th>videoDescription</th>\n",
       "      <th>videoCategoryLabel</th>\n",
       "      <th>durationSec</th>\n",
       "      <th>viewCount</th>\n",
       "      <th>likeCount</th>\n",
       "      <th>dislikeCount</th>\n",
       "      <th>commentCount</th>\n",
       "    </tr>\n",
       "  </thead>\n",
       "  <tbody>\n",
       "    <tr>\n",
       "      <th>0</th>\n",
       "      <td>Deon Cole On White Protester Signs That Missed...</td>\n",
       "      <td>Deon Cole shares some white protester signs th...</td>\n",
       "      <td>Comedy</td>\n",
       "      <td>124</td>\n",
       "      <td>98817.0</td>\n",
       "      <td>3161.0</td>\n",
       "      <td>186.0</td>\n",
       "      <td>368.0</td>\n",
       "    </tr>\n",
       "    <tr>\n",
       "      <th>1</th>\n",
       "      <td>Nicole Byer On Finding Humor In Pain - CONAN o...</td>\n",
       "      <td>Nicole Byer on racial inequality in healthcare...</td>\n",
       "      <td>Comedy</td>\n",
       "      <td>1200</td>\n",
       "      <td>48337.0</td>\n",
       "      <td>1884.0</td>\n",
       "      <td>115.0</td>\n",
       "      <td>318.0</td>\n",
       "    </tr>\n",
       "    <tr>\n",
       "      <th>2</th>\n",
       "      <td>Sona Crashes Conan's Interview With Nicole Bye...</td>\n",
       "      <td>Sona is a huge fan of Nicole Byer, “Nailed It!...</td>\n",
       "      <td>Comedy</td>\n",
       "      <td>52</td>\n",
       "      <td>57277.0</td>\n",
       "      <td>1992.0</td>\n",
       "      <td>47.0</td>\n",
       "      <td>147.0</td>\n",
       "    </tr>\n",
       "    <tr>\n",
       "      <th>3</th>\n",
       "      <td>Senator Cory Booker On This Crossroads In Amer...</td>\n",
       "      <td>Senator Cory Booker discusses the killing of G...</td>\n",
       "      <td>Comedy</td>\n",
       "      <td>1917</td>\n",
       "      <td>26466.0</td>\n",
       "      <td>796.0</td>\n",
       "      <td>338.0</td>\n",
       "      <td>399.0</td>\n",
       "    </tr>\n",
       "    <tr>\n",
       "      <th>4</th>\n",
       "      <td>Senator Cory Booker Wants This To Be A Moral M...</td>\n",
       "      <td>Senator Cory Booker discusses President Trump’...</td>\n",
       "      <td>Comedy</td>\n",
       "      <td>447</td>\n",
       "      <td>19033.0</td>\n",
       "      <td>491.0</td>\n",
       "      <td>336.0</td>\n",
       "      <td>264.0</td>\n",
       "    </tr>\n",
       "  </tbody>\n",
       "</table>\n",
       "</div>"
      ],
      "text/plain": [
       "                                          videoTitle  \\\n",
       "0  Deon Cole On White Protester Signs That Missed...   \n",
       "1  Nicole Byer On Finding Humor In Pain - CONAN o...   \n",
       "2  Sona Crashes Conan's Interview With Nicole Bye...   \n",
       "3  Senator Cory Booker On This Crossroads In Amer...   \n",
       "4  Senator Cory Booker Wants This To Be A Moral M...   \n",
       "\n",
       "                                    videoDescription videoCategoryLabel  \\\n",
       "0  Deon Cole shares some white protester signs th...             Comedy   \n",
       "1  Nicole Byer on racial inequality in healthcare...             Comedy   \n",
       "2  Sona is a huge fan of Nicole Byer, “Nailed It!...             Comedy   \n",
       "3  Senator Cory Booker discusses the killing of G...             Comedy   \n",
       "4  Senator Cory Booker discusses President Trump’...             Comedy   \n",
       "\n",
       "  durationSec  viewCount  likeCount  dislikeCount  commentCount  \n",
       "0         124    98817.0     3161.0         186.0         368.0  \n",
       "1        1200    48337.0     1884.0         115.0         318.0  \n",
       "2          52    57277.0     1992.0          47.0         147.0  \n",
       "3        1917    26466.0      796.0         338.0         399.0  \n",
       "4         447    19033.0      491.0         336.0         264.0  "
      ]
     },
     "execution_count": 3,
     "metadata": {},
     "output_type": "execute_result"
    }
   ],
   "source": [
    "conan.drop([\"publishedAtSQL\",\"definition\",\"videoCategoryId\",\"caption\",\"licensedContent\"],axis='columns', inplace=True)\n",
    "conan.head()"
   ]
  },
  {
   "cell_type": "markdown",
   "execution_count": null,
   "metadata": {},
   "source": [
    "Lets find the total number of rows present"
   ]
  },
  {
   "cell_type": "code",
   "execution_count": 4,
   "metadata": {},
   "outputs": [
    {
     "data": {
      "text/plain": [
       "(8725, 8)"
      ]
     },
     "execution_count": 4,
     "metadata": {},
     "output_type": "execute_result"
    }
   ],
   "source": [
    "conan.shape"
   ]
  },
  {
   "cell_type": "markdown",
   "execution_count": null,
   "metadata": {},
   "source": [
    "Finding and replacing the null values in the dataset"
   ]
  },
  {
   "cell_type": "code",
   "execution_count": 5,
   "metadata": {},
   "outputs": [
    {
     "data": {
      "text/plain": [
       "videoTitle             0\n",
       "videoDescription       2\n",
       "videoCategoryLabel     2\n",
       "durationSec            2\n",
       "viewCount              2\n",
       "likeCount              2\n",
       "dislikeCount           2\n",
       "commentCount          10\n",
       "dtype: int64"
      ]
     },
     "execution_count": 5,
     "metadata": {},
     "output_type": "execute_result"
    }
   ],
   "source": [
    "conan.isnull().sum()"
   ]
  },
  {
   "cell_type": "markdown",
   "execution_count": null,
   "metadata": {},
   "source": [
    "**Created a for loop and replaced the values with the mode(The most repeated values)**"
   ]
  },
  {
   "cell_type": "code",
   "execution_count": 6,
   "metadata": {},
   "outputs": [],
   "source": [
    "\n",
    "\n",
    "for column in ['durationSec','viewCount','likeCount','dislikeCount','commentCount']:\n",
    "    conan[column].fillna(conan[column].mode()[0], inplace=True)"
   ]
  },
  {
   "cell_type": "markdown",
   "execution_count": null,
   "metadata": {},
   "source": [
    "**For columns containing String values we find the index and remove it**"
   ]
  },
  {
   "cell_type": "code",
   "execution_count": 7,
   "metadata": {},
   "outputs": [
    {
     "name": "stdout",
     "output_type": "stream",
     "text": [
      "                                             videoTitle videoDescription  \\\n",
      "1475  Stream Coco LIVE: \"Friday The 13th\" With CONAN...              NaN   \n",
      "3678  Manchester By The Sea” Is Basically An Amazon ...              NaN   \n",
      "\n",
      "     videoCategoryLabel durationSec  viewCount  likeCount  dislikeCount  \\\n",
      "1475      Entertainment           6    28249.0      381.0          43.0   \n",
      "3678                NaN         300   119292.0      340.0          15.0   \n",
      "\n",
      "      commentCount  \n",
      "1475          43.0  \n",
      "3678          49.0  \n"
     ]
    }
   ],
   "source": [
    "viddesnull = conan.loc[conan['videoDescription'].isnull()] \n",
    "  \n",
    "print(viddesnull) \n",
    "\n"
   ]
  },
  {
   "cell_type": "code",
   "execution_count": 8,
   "metadata": {},
   "outputs": [
    {
     "name": "stdout",
     "output_type": "stream",
     "text": [
      "                                             videoTitle  \\\n",
      "2520  What Conan’s Watching: \"This Is Us\" Edition - ...   \n",
      "3678  Manchester By The Sea” Is Basically An Amazon ...   \n",
      "\n",
      "                                       videoDescription videoCategoryLabel  \\\n",
      "2520  This Is Us” arouses a lot of strong feelings. ...                NaN   \n",
      "3678                                                NaN                NaN   \n",
      "\n",
      "     durationSec  viewCount  likeCount  dislikeCount  commentCount  \n",
      "2520         300   119292.0      340.0          15.0          49.0  \n",
      "3678         300   119292.0      340.0          15.0          49.0  \n"
     ]
    }
   ],
   "source": [
    "vidcatnull = conan.loc[conan['videoCategoryLabel'].isnull()] \n",
    "  \n",
    "print(vidcatnull) "
   ]
  },
  {
   "cell_type": "code",
   "execution_count": 9,
   "metadata": {},
   "outputs": [
    {
     "data": {
      "text/plain": [
       "(8722, 8)"
      ]
     },
     "execution_count": 9,
     "metadata": {},
     "output_type": "execute_result"
    }
   ],
   "source": [
    "conanfinal=conan.drop([1475,2520,3678])\n",
    "conanfinal.shape"
   ]
  },
  {
   "cell_type": "markdown",
   "execution_count": null,
   "metadata": {},
   "source": [
    "# Now there are no Null Values"
   ]
  },
  {
   "cell_type": "code",
   "execution_count": 10,
   "metadata": {},
   "outputs": [
    {
     "data": {
      "text/plain": [
       "videoTitle            0\n",
       "videoDescription      0\n",
       "videoCategoryLabel    0\n",
       "durationSec           0\n",
       "viewCount             0\n",
       "likeCount             0\n",
       "dislikeCount          0\n",
       "commentCount          0\n",
       "dtype: int64"
      ]
     },
     "execution_count": 10,
     "metadata": {},
     "output_type": "execute_result"
    }
   ],
   "source": [
    "conanfinal.isnull().sum()\n"
   ]
  },
  {
   "cell_type": "markdown",
   "execution_count": null,
   "metadata": {},
   "source": [
    "Here **we are finding the unique categories that exist under the video category column**"
   ]
  },
  {
   "cell_type": "code",
   "execution_count": 11,
   "metadata": {},
   "outputs": [
    {
     "name": "stdout",
     "output_type": "stream",
     "text": [
      "Comedy\n",
      "Music\n",
      "Entertainment\n",
      "Gaming\n",
      "News & Politics\n",
      "Travel & Events\n",
      "PT1M53S\n",
      "People & Blogs\n",
      "Film & Animation\n",
      "Education\n"
     ]
    }
   ],
   "source": [
    "uniqconan=conanfinal.videoCategoryLabel.unique()\n",
    "for values in uniqconan:\n",
    "    print(values)\n"
   ]
  },
  {
   "cell_type": "markdown",
   "execution_count": null,
   "metadata": {},
   "source": [
    "**Finding the sum of total views in each category**"
   ]
  },
  {
   "cell_type": "code",
   "execution_count": 12,
   "metadata": {},
   "outputs": [
    {
     "name": "stdout",
     "output_type": "stream",
     "text": [
      "5749667064.0\n"
     ]
    }
   ],
   "source": [
    "Comedy=conanfinal.viewCount[conanfinal.videoCategoryLabel == 'Comedy'].sum()\n",
    "print(Comedy)"
   ]
  },
  {
   "cell_type": "code",
   "execution_count": 13,
   "metadata": {},
   "outputs": [
    {
     "name": "stdout",
     "output_type": "stream",
     "text": [
      "973936130.0\n"
     ]
    }
   ],
   "source": [
    "Ent=conanfinal.viewCount[conanfinal.videoCategoryLabel == 'Entertainment'].sum()\n",
    "print(Ent)"
   ]
  },
  {
   "cell_type": "code",
   "execution_count": 14,
   "metadata": {},
   "outputs": [
    {
     "name": "stdout",
     "output_type": "stream",
     "text": [
      "125127514.0\n"
     ]
    }
   ],
   "source": [
    "Mus=conanfinal.viewCount[conanfinal.videoCategoryLabel == 'Music'].sum()\n",
    "print(Mus)"
   ]
  },
  {
   "cell_type": "code",
   "execution_count": 15,
   "metadata": {},
   "outputs": [
    {
     "name": "stdout",
     "output_type": "stream",
     "text": [
      "8381684.0\n"
     ]
    }
   ],
   "source": [
    "Game=conanfinal.viewCount[conanfinal.videoCategoryLabel == 'Gaming'].sum()\n",
    "print(Game)"
   ]
  },
  {
   "cell_type": "code",
   "execution_count": 16,
   "metadata": {},
   "outputs": [
    {
     "name": "stdout",
     "output_type": "stream",
     "text": [
      "858124.0\n"
     ]
    }
   ],
   "source": [
    "Np=conanfinal.viewCount[conanfinal.videoCategoryLabel == 'News & Politics'].sum()\n",
    "print(Np)"
   ]
  },
  {
   "cell_type": "code",
   "execution_count": 17,
   "metadata": {},
   "outputs": [
    {
     "name": "stdout",
     "output_type": "stream",
     "text": [
      "1279664.0\n"
     ]
    }
   ],
   "source": [
    "TE=conanfinal.viewCount[conanfinal.videoCategoryLabel == 'Travel & Events'].sum()\n",
    "print(TE)"
   ]
  },
  {
   "cell_type": "code",
   "execution_count": 18,
   "metadata": {},
   "outputs": [
    {
     "name": "stdout",
     "output_type": "stream",
     "text": [
      "270523.0\n"
     ]
    }
   ],
   "source": [
    "PB=conanfinal.viewCount[conanfinal.videoCategoryLabel == 'People & Blogs'].sum()\n",
    "print(PB)"
   ]
  },
  {
   "cell_type": "code",
   "execution_count": 19,
   "metadata": {},
   "outputs": [
    {
     "name": "stdout",
     "output_type": "stream",
     "text": [
      "411134.0\n"
     ]
    }
   ],
   "source": [
    "FA=conanfinal.viewCount[conanfinal.videoCategoryLabel == 'Film & Animation'].sum()\n",
    "print(FA)"
   ]
  },
  {
   "cell_type": "code",
   "execution_count": 20,
   "metadata": {},
   "outputs": [
    {
     "name": "stdout",
     "output_type": "stream",
     "text": [
      "300294.0\n"
     ]
    }
   ],
   "source": [
    "Ed=conanfinal.viewCount[conanfinal.videoCategoryLabel == 'Education'].sum()\n",
    "print(Ed)"
   ]
  },
  {
   "cell_type": "markdown",
   "execution_count": null,
   "metadata": {},
   "source": [
    "# In-depth Exploratory Analysis"
   ]
  },
  {
   "cell_type": "code",
   "execution_count": 21,
   "metadata": {},
   "outputs": [
    {
     "data": {
      "image/png": "[encoded data removed]",
      "text/plain": [
       "<Figure size 432x288 with 1 Axes>"
      ]
     },
     "metadata": {},
     "output_type": "display_data"
    }
   ],
   "source": [
    "exp_vals=[Comedy,Ent,Mus]\n",
    "labels=['Comedy','entertainment','Music']\n",
    "plt.axis('equal')\n",
    "explode=(0,0.5,0.5)\n",
    "colors=['Pink','Red','Orange']\n",
    "plt.pie(exp_vals,radius=2,autopct='%0.1f%%',shadow=True,explode=explode,startangle=45,labels=labels,colors=colors)\n",
    "plt.show()"
   ]
  },
  {
   "cell_type": "markdown",
   "execution_count": null,
   "metadata": {},
   "source": [
    "We can conclude that people prefer comedy and entertainment the most"
   ]
  },
  {
   "cell_type": "code",
   "execution_count": 22,
   "metadata": {},
   "outputs": [
    {
     "data": {
      "image/png": "[encoded data removed]",
      "text/plain": [
       "<Figure size 432x288 with 1 Axes>"
      ]
     },
     "metadata": {},
     "output_type": "display_data"
    }
   ],
   "source": [
    "exp_vals=[Game,Np,TE]\n",
    "labels=['Game','News & Politics','Travel & Events']\n",
    "plt.axis('equal')\n",
    "explode=(0,0.5,0.5)\n",
    "colors=['Orange','Brown','Yellow']\n",
    "plt.pie(exp_vals,radius=2,autopct='%0.1f%%',shadow=True,explode=explode,startangle=45,labels=labels,colors=colors)\n",
    "plt.show()\n"
   ]
  },
  {
   "cell_type": "markdown",
   "execution_count": null,
   "metadata": {},
   "source": [
    "On further exploring the sub levels, the game enthralls more viewers"
   ]
  },
  {
   "cell_type": "code",
   "execution_count": 23,
   "metadata": {},
   "outputs": [
    {
     "data": {
      "image/png": "[encoded data removed]",
      "text/plain": [
       "<Figure size 432x288 with 1 Axes>"
      ]
     },
     "metadata": {},
     "output_type": "display_data"
    }
   ],
   "source": [
    "exp_vals=[PB,FA,Ed]\n",
    "labels=['People & Blogs','Film & Animation','Education']\n",
    "plt.axis('equal')\n",
    "colors=['Pink','Red','Yellow']\n",
    "explode=(0,0.5,0)\n",
    "plt.pie(exp_vals,radius=2,autopct='%0.1f%%',shadow=True,explode=explode,startangle=180,labels=labels,colors=colors,)\n",
    "plt.show()\n"
   ]
  },
  {
   "cell_type": "markdown",
   "execution_count": null,
   "metadata": {},
   "source": [
    "Its funny that people prefer education & blogs the least of all the categories"
   ]
  },
  {
   "cell_type": "markdown",
   "execution_count": null,
   "metadata": {},
   "source": [
    "Thank You!\n",
    "!\n",
    "\n",
    "[I am leaving a link of my linear regression model for another notebook! feel free to check it out! its simple]https://www.kaggle.com/sujay12345/prediction-of-you-getting-an-admit-in-us)\n",
    "\n",
    "\n",
    "# Your feedback is much appreciated"
   ]
  }
 ],
 "metadata": {
  "kernelspec": {
   "display_name": "Python 3",
   "language": "python",
   "name": "python3"
  },
  "language_info": {
   "codemirror_mode": {
    "name": "ipython",
    "version": 3
   },
   "file_extension": ".py",
   "mimetype": "text/x-python",
   "name": "python",
   "nbconvert_exporter": "python",
   "pygments_lexer": "ipython3",
   "version": "3.7.6"
  }
 },
 "nbformat": 4,
 "nbformat_minor": 4
}
